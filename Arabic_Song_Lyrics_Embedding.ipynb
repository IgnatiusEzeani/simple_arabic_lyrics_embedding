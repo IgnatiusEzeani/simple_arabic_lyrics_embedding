{
 "cells": [
  {
   "cell_type": "markdown",
   "metadata": {},
   "source": [
    "# Sentence Embeddings on Arabic Song Lyric\n",
    "\n",
    "In this work, I trained the Arabic Song Lyric sentence-level embeddings with the Fast Sentence Embedding (FSE) library by [Oliver Borchers](https://github.com/oborchers/Fast_Sentence_Embeddings/blob/master/README.md) using the [AraVec](https://github.com/bakrianoo/aravec/tree/master/AraVec%202.0) pre-trained embeddings built from this [Arabic Wikipedia dump](https://dumps.wikimedia.org/arwiki/latest/arwiki-latest-pages-articles.xml.bz2).\n",
    "\n",
    "The code applied the Smooth Inverse Frequency (SIF) implementation described in the paper [*A Simple but Tough-To-Beat Baseline for Sentence Embeddings*](https://openreview.net/forum?id=SyK00v5xx).\n",
    "\n",
    "This code depends on <code>fse</code>, <code>nltk</code>, and <code>gensim</code> to run. Details of how to download and install them will be on the links above. \n",
    "\n",
    "## Imports"
   ]
  },
  {
   "cell_type": "code",
   "execution_count": 221,
   "metadata": {},
   "outputs": [],
   "source": [
    "# data preparation\n",
    "from fse import SplitIndexedList\n",
    "\n",
    "# for sentence embedding model training\n",
    "from fse.models.average import FAST_VERSION, MAX_WORDS_IN_BATCH\n",
    "\n",
    "# for Arabic sentence tokenisation\n",
    "from nltk import sent_tokenize\n",
    "\n",
    "# for loading word embeddings\n",
    "from gensim.models import Word2Vec\n",
    "\n",
    "# for sentence embedding with Smooth Inverse Frequency (SIF)\n",
    "from fse.models import SIF\n",
    "\n",
    "# for fun with scatter plots of similar lyrics\n",
    "import matplotlib.pyplot as plt"
   ]
  },
  {
   "cell_type": "markdown",
   "metadata": {},
   "source": [
    "## Loading dataset (i.e. song lyrics file)"
   ]
  },
  {
   "cell_type": "code",
   "execution_count": 37,
   "metadata": {},
   "outputs": [],
   "source": [
    "# I have earlier extracted only the lyrics from the file\n",
    "textfile = \"/home/ignatius/Desktop/new_projects/Mo/sample_lyrics_only.csv\"\n",
    "def read_input(input_file):\n",
    "    with open(input_file,'r',encoding='utf8') as f:\n",
    "        for i, line in enumerate(f):\n",
    "            if sent_tokenize(line):\n",
    "                yield sent_tokenize(line)\n",
    "sentences = []\n",
    "for sents in read_input(textfile):\n",
    "    sentences.extend(sents)\n",
    "s = SplitIndexedList(sentences)"
   ]
  },
  {
   "cell_type": "markdown",
   "metadata": {
    "collapsed": true
   },
   "source": [
    "### Viewing file size and top lines"
   ]
  },
  {
   "cell_type": "code",
   "execution_count": 21,
   "metadata": {},
   "outputs": [
    {
     "name": "stdout",
     "output_type": "stream",
     "text": [
      "131\n",
      "(['من', 'يوم', 'ماجيت', 'على', 'قلبى', 'ناديت', 'بهوالك', 'حسيت', 'فرحة', 'عينى'], 0)\n",
      "(['دا', 'انا', 'روحى', 'معاك', 'قلبى', 'بيهواك', 'وبعيش', 'وياك', 'كل', 'سنينى'], 1)\n",
      "(['والله', 'واحلوت', 'الايام', 'لما', 'حسيت', 'معاك', 'بغرام'], 2)\n"
     ]
    }
   ],
   "source": [
    "top = 3 #modify this value to see more or less...\n",
    "print(len(s))\n",
    "for i, sent in enumerate(s):\n",
    "    if (i<top): print(sent)\n",
    "    else: break"
   ]
  },
  {
   "cell_type": "markdown",
   "metadata": {
    "collapsed": true
   },
   "source": [
    "## Loading <code>AraVec</code> pre-trained embedding"
   ]
  },
  {
   "cell_type": "code",
   "execution_count": 30,
   "metadata": {},
   "outputs": [
    {
     "name": "stdout",
     "output_type": "stream",
     "text": [
      "Be patient...this might take a while...Model successfully loaded!\n"
     ]
    }
   ],
   "source": [
    "# I downloaded and extracted it before this...\n",
    "print(\"Be patient...this might take a while...\", end=\"\")\n",
    "model_path = \"/home/ignatius/Desktop/new_projects/Mo/AraSIF-master/models/full_grams_sg_300_wiki.mdl\"\n",
    "model = Word2Vec.load(model_path)\n",
    "print(\"Model successfully loaded!\")"
   ]
  },
  {
   "cell_type": "markdown",
   "metadata": {
    "collapsed": true
   },
   "source": [
    "## Training sentence embedding"
   ]
  },
  {
   "cell_type": "code",
   "execution_count": 32,
   "metadata": {},
   "outputs": [
    {
     "name": "stdout",
     "output_type": "stream",
     "text": [
      "MAX_WORDS_IN_BATCH = 10000\n",
      "FAST_VERSION = 1\n"
     ]
    }
   ],
   "source": [
    "# Just to confirm that MAX_WORDS_IN_BATCH=1000; FAST_VERSION=1.\n",
    "# Recommended values\n",
    "print(f\"MAX_WORDS_IN_BATCH = {MAX_WORDS_IN_BATCH}\\nFAST_VERSION = {FAST_VERSION}\")"
   ]
  },
  {
   "cell_type": "markdown",
   "metadata": {
    "collapsed": true
   },
   "source": [
    "### Actual Training...\n",
    "I think (please don't quote me :D) the returned tuple is the **number of sentences** (or lyric lines) and **vocabulary** of the lyric dataset i.e. number of the unique words that appeared in the dataset."
   ]
  },
  {
   "cell_type": "code",
   "execution_count": 38,
   "metadata": {},
   "outputs": [
    {
     "data": {
      "text/plain": [
       "(131, 486)"
      ]
     },
     "execution_count": 38,
     "metadata": {},
     "output_type": "execute_result"
    }
   ],
   "source": [
    "sent_model = SIF(model, workers=2)\n",
    "sent_model.train(s)"
   ]
  },
  {
   "cell_type": "markdown",
   "metadata": {},
   "source": [
    "## Querying the sentence embedding\n",
    "Some of the fun things you can do with the trained sentence embedding model.\n",
    "\n",
    "### Check the embedding of a sentence\n",
    "Remember a sentence here means a line of lyrics.\n",
    "\n",
    "To do that, you can pass the original index number e.g. **<code>sent_model.sv[100]</code>** will show the embedding for the *100th* lyric line in the file i.e. 'حياة ان ايدينا يکون مشبوک مع بعض'\n",
    "\n",
    "The dimension of the embedding is 300. In the example below, I rounded the embedding values to 5 decimal places and them displayed only the 50 values."
   ]
  },
  {
   "cell_type": "code",
   "execution_count": 185,
   "metadata": {},
   "outputs": [
    {
     "name": "stdout",
     "output_type": "stream",
     "text": [
      "300\n"
     ]
    },
    {
     "data": {
      "text/plain": [
       "array([ 0.04721, -0.10034,  0.1144 ,  0.04351, -0.01721,  0.01096,\n",
       "       -0.0762 ,  0.07382, -0.00653,  0.01494,  0.04307, -0.01992,\n",
       "       -0.00725, -0.15728,  0.08365,  0.02966,  0.03772, -0.01305,\n",
       "        0.10484, -0.03358,  0.00907, -0.01134,  0.07196, -0.05996,\n",
       "        0.02376,  0.06491, -0.08328, -0.01259,  0.04557,  0.03488,\n",
       "       -0.1112 , -0.09199,  0.08961,  0.01582, -0.13587, -0.04426,\n",
       "       -0.0537 ,  0.08918,  0.11185,  0.02721, -0.01495,  0.0381 ,\n",
       "       -0.09987, -0.0154 , -0.00196,  0.05881, -0.00799, -0.01295,\n",
       "       -0.07948, -0.01682], dtype=float32)"
      ]
     },
     "execution_count": 185,
     "metadata": {},
     "output_type": "execute_result"
    }
   ],
   "source": [
    "print(len(sent_model.sv[100])) #shows embedding dimension\n",
    "sent_model.sv[100].round(5)[:50] # round to 5dp and show top 50 "
   ]
  },
  {
   "cell_type": "markdown",
   "metadata": {},
   "source": [
    "### Check `similarity` and `distance` between lyrics"
   ]
  },
  {
   "cell_type": "code",
   "execution_count": 198,
   "metadata": {},
   "outputs": [
    {
     "name": "stdout",
     "output_type": "stream",
     "text": [
      "lyric_a: كان ليا دا فين ياملينى حنين ياحبيب العين قول بصراحة\n",
      "lyric_b: اعمل ايه قلبى فيك بيدوب دا مش مكتوب عليه اختار\n",
      "Similarity: 0.1599999964237213\n",
      "Distance: 0.84\n"
     ]
    }
   ],
   "source": [
    "lyric_a, lyric_b = 6, 5 #vary these values to test\n",
    "print(f\"lyric_a: {' '.join(s[lyric_a][0])}\\nlyric_b: {' '.join(s[lyric_b][0])}\")\n",
    "print(f\"Similarity: {sent_model.sv.similarity(lyric_a, lyric_b).round(3)}\")\n",
    "print(f\"Distance: {sent_model.sv.distance(lyric_a, lyric_b).round(3)}\")"
   ]
  },
  {
   "cell_type": "markdown",
   "metadata": {},
   "source": [
    "### Check the most similar lyrics `by_word`"
   ]
  },
  {
   "cell_type": "code",
   "execution_count": 199,
   "metadata": {},
   "outputs": [
    {
     "data": {
      "text/plain": [
       "[('ذكراهم متفاركـ عيني', 26, 0.5853458642959595),\n",
       " ('انا في الغرام قلبي من جرحو من قلبي و يا عيني على العاشقين',\n",
       "  65,\n",
       "  0.3093312382698059),\n",
       " ('و احلف بروح روحي هو و عيني و روحي', 68, 0.3081241250038147),\n",
       " ('و عيون حبيبي يا هوى علي مش راضين', 62, 0.18106195330619812),\n",
       " ('و اروح و اشكي لمين جرح الحبيب جرحين', 67, 0.16696017980575562),\n",
       " ('كان ليا دا فين ياملينى حنين ياحبيب العين قول بصراحة',\n",
       "  6,\n",
       "  0.15186548233032227),\n",
       " ('و روح و اشكي لمين جرح الحبيب جرحين', 72, 0.1416168063879013),\n",
       " ('بعيوني وقلبي مخليهم', 30, 0.13992837071418762),\n",
       " ('ارتاح وريح قلبك انا اكثر منك احبك', 16, 0.09806551784276962),\n",
       " ('يا دمعتي و جروحي قوليلو قلبك فين', 74, 0.09768706560134888)]"
      ]
     },
     "execution_count": 199,
     "metadata": {},
     "output_type": "execute_result"
    }
   ],
   "source": [
    "sent_model.sv.similar_by_word(\"عيني\", wv=sent_model.wv, indexable=s.items)"
   ]
  },
  {
   "cell_type": "markdown",
   "metadata": {},
   "source": [
    "### Check the most similar lyrics `by_sentence`"
   ]
  },
  {
   "cell_type": "code",
   "execution_count": 200,
   "metadata": {},
   "outputs": [
    {
     "data": {
      "text/plain": [
       "[('من يوم ماجيت على قلبى ناديت بهوالك حسيت فرحة عينى', 0, 1.0000001192092896),\n",
       " ('لو يوم عييني قالو جرحي بيحلالو بعشق عذابي معاه', 70, 0.42464742064476013),\n",
       " ('بگو دوست دارم بهم بگو', 114, 0.27726486325263977),\n",
       " ('عزيزم بگو چت شده و چرا فکرم رو مشغول کردي', 126, 0.24750155210494995),\n",
       " ('نار الفراق نارهم و يامين يصبربهم على كل دمعة عين', 66, 0.2425152063369751),\n",
       " ('ما ينسى ولا يخلف الأماني', 45, 0.21340115368366241),\n",
       " ('ستاره گفتم آره بگو دوست داري', 89, 0.17496389150619507),\n",
       " ('عن محبه طويلة بينا ... العمر ماعشنا خوفا', 57, 0.1707918792963028),\n",
       " ('و اروح و اشكي لمين جرح الحبيب جرحين', 67, 0.16695822775363922),\n",
       " ('(ايراني) زندگي تا دست به دست هميم', 99, 0.16644954681396484)]"
      ]
     },
     "execution_count": 200,
     "metadata": {},
     "output_type": "execute_result"
    }
   ],
   "source": [
    "sent_model.sv.similar_by_sentence(\"من يوم ماجيت على قلبى ناديت بهوالك حسيت فرحة عينى\".split(), model=sent_model, indexable=s.items)"
   ]
  },
  {
   "cell_type": "markdown",
   "metadata": {},
   "source": [
    "### Scatterplot of similar lyrics"
   ]
  },
  {
   "cell_type": "code",
   "execution_count": 227,
   "metadata": {},
   "outputs": [
    {
     "data": {
      "image/png": "[encoded data removed]",
      "text/plain": [
       "<Figure size 432x288 with 1 Axes>"
      ]
     },
     "metadata": {},
     "output_type": "display_data"
    }
   ],
   "source": [
    "def show_closest_lyric_scatterplot(lyric_index):\n",
    "    arr = np.empty((300), dtype='f')\n",
    "    lyric, index = lyric_index\n",
    "    labels = [\" \".join(lyric)]\n",
    "    \n",
    "    # get close lyrics\n",
    "    close_lyrics = sent_model.sv.similar_by_sentence(lyric, model=sent_model,indexable=s.items)\n",
    "    \n",
    "    # add the vector for each of the closest words to the array\n",
    "    arr = np.vstack((arr, sent_model.sv[index]))\n",
    "    \n",
    "    for line, index,_ in close_lyrics:\n",
    "        lyric_vector = sent_model.sv[index]\n",
    "        labels.append(\" \".join(line))\n",
    "        arr = np.vstack((arr, np.array(lyric_vector)))\n",
    "    \n",
    "    # find tsne coords for 2 dimensions\n",
    "    tsne = TSNE(n_components=2, random_state=0)\n",
    "    np.set_printoptions(suppress=False)\n",
    "    Y = tsne.fit_transform(np.nan_to_num(arr)) \n",
    "    x_coords = Y[:, 0]\n",
    "    y_coords = Y[:, 1]\n",
    "    # display scatter plot\n",
    "    plt.scatter(x_coords, y_coords)\n",
    "    \n",
    "    for label, x, y in zip(labels, x_coords, y_coords):\n",
    "        plt.annotate(label, xy=(x, y), xytext=(0, 0), textcoords='offset points')\n",
    "    plt.xlim(x_coords.min()+0.00005, x_coords.max()+0.00005)\n",
    "    plt.ylim(y_coords.min()+0.00005, y_coords.max()+0.00005)\n",
    "    plt.show()\n",
    "show_closest_lyric_scatterplot(s[25]) #change value to alter plots"
   ]
  },
  {
   "cell_type": "markdown",
   "metadata": {},
   "source": [
    "### Save embedding model for later\n",
    "The full model can be saved as below:"
   ]
  },
  {
   "cell_type": "code",
   "execution_count": 229,
   "metadata": {
    "collapsed": true
   },
   "outputs": [],
   "source": [
    "sent_model.save('sent_full_model')"
   ]
  },
  {
   "cell_type": "markdown",
   "metadata": {},
   "source": [
    "Or maybe as a text file as follows"
   ]
  },
  {
   "cell_type": "code",
   "execution_count": 241,
   "metadata": {
    "collapsed": true
   },
   "outputs": [],
   "source": [
    "def save_model_as_text_file(model, filename):\n",
    "    with open(filename, 'w', encoding='utf8') as outputfile:\n",
    "        for sent, i in s:\n",
    "            sent = \" \".join(sent)\n",
    "            vecs = \" \".join(str(v) for v in model.sv[i].round(4))\n",
    "            outputfile.write(f\"{sent} {vecs}\\n\")\n",
    "save_model_as_text_file(sent_model,'sent_model.txt')"
   ]
  },
  {
   "cell_type": "code",
   "execution_count": 240,
   "metadata": {},
   "outputs": [
    {
     "name": "stdout",
     "output_type": "stream",
     "text": [
      "من يوم ماجيت على قلبى ناديت بهوالك حسيت فرحة عينى\n",
      "دا انا روحى معاك قلبى بيهواك وبعيش وياك كل سنينى\n",
      "والله واحلوت الايام لما حسيت معاك بغرام\n",
      "اد اما اقدر هكون وياك فى حضن هواك وان\n",
      "لو تغيب عن عنيا احتار ببقى عايشة وكانى فى نار\n",
      "اعمل ايه قلبى فيك بيدوب دا مش مكتوب عليه اختار\n",
      "كان ليا دا فين ياملينى حنين ياحبيب العين قول بصراحة\n",
      "ومسلمة ليك وبنادى عليك بطمن بيك ليك مرتاحة\n",
      "انسى ولا تعذب قلبك صدقني الحب يتعبك\n",
      "ما اريدك ياابن الناس ترجع مجروح احساس\n",
      "تشكيلي الحب معذبك انسى ولا تعذب قلبك\n",
      "الحب سهرني ليلي ما تدري سوه بحالي\n",
      "كتلك منخوفي عليك ابعد الله يخليك\n",
      "ليش تحب الميحبك انسى ولا تعذب قلبك\n",
      "دمرت اعصابك اني وعرفت اشكد تهواني\n",
      "لا تبجي ولا تنهار ولا تفكر بالي صار\n",
      "ارتاح وريح قلبك انا اكثر منك احبك\n",
      "أحبـــاب الروح\n",
      "أحباب الروح جرحوني\n",
      "راحوا لبعيد وخلوني\n",
      "ظلموني ليش ظلموني\n",
      "ومنهم ياليلحرموني\n",
      "يا ليلي يا ليلييا ليلي يا ليلي\n",
      "لومر الليل يواسيني\n",
      "ويحاول بلكيينسيني\n",
      "عشت وياهم أحلى سنيني\n",
      "ذكراهم متفاركـ عيني\n",
      "يا ليلي يا ليلييا ليلي يا ليلي\n",
      "كل لحظه تمر بطاريهم\n",
      "كذاب إلي كلكـناسيهم\n",
      "بعيوني وقلبي مخليهم\n",
      "دور بالروح تلكيهم\n",
      "يا ليلي ياليلي\n",
      "يا ليلي يا ليلي\n",
      "ربي خلق في الكون الاف والاف\n",
      "بس بحالاتك ما خلق حد ثاني\n",
      "اسمك على رسمك جميل وخطاف\n",
      "اسطورة وخلد حلاها الزمان\n",
      "نوره على مر الزمن غير ينشاف\n",
      "هيئه على هيئه يفوق الثمان\n",
      "سبحانه الله كيف ميز به اوصاف\n",
      "اوصاف يعجر عن ذكرها لساني\n",
      "آيه من الخالق بها اصناف واصناف\n",
      "من روعة الدنيا وحور الجنان\n",
      "حتى اسمها دوم عـ البال رفاف\n",
      "ما ينسى ولا يخلف الأماني\n",
      "انت ما قتلى لي... كلمتنى عيونى\n",
      "عن مشاعر صادقة حية ... نابعة من اعماق شجونك\n",
      "انت ماقتلى لي ... كلمتنى عيونى\n",
      "عن حنين يغمر مسامك... فى حنايا روح سكونك\n",
      "انت ما قتلى لي... كلمتنى عيونى\n",
      "عن كلام فى لسانك انت .... قبل ما يتقال عرفتو\n",
      "عن امانى جميلة زيك.... عن امل جواى عشتو\n",
      "عن فرح يجمعنا باكر... فى حلم من بدرى شفتو\n",
      "الالما تقول تصارحي... تهربا الكلمات تخونك\n",
      "انت ماقتلى ... كلمتنى عيونى\n",
      "عن سعادة العمر كلو... تحتوينى معاك اشوفا\n",
      "عن محبه طويلة بينا ... العمر ماعشنا خوفا\n",
      "ماكلام روعة عيونك... حلوة كلماتو حروفا\n",
      "برضى بيك أنا لسة هايم... مابحس فرحة دونك\n",
      "انت ماقتلى ... كلمتنى عيووووووونك\n",
      "الله كريم يا هوى و بيرضى على العاشقين\n",
      "و عيون حبيبي يا هوى علي مش راضين\n",
      "و احلف بروح روحي هو وعيني روحي\n",
      "يا دمعتي و جروحي قوليلو قلبك فين\n",
      "انا في الغرام قلبي من جرحو من قلبي و يا عيني على العاشقين\n",
      "نار الفراق نارهم و يامين يصبربهم على كل دمعة عين\n",
      "و اروح و اشكي لمين جرح الحبيب جرحين\n",
      "و احلف بروح روحي هو و عيني و روحي\n",
      "يا دمعتي و جروحي قوليلو قلبك فين\n",
      "لو يوم عييني قالو جرحي بيحلالو بعشق عذابي معاه\n",
      "و اعيش على جرحو من تانيو اسامحو قدري انا بهواه\n",
      "و روح و اشكي لمين جرح الحبيب جرحين\n",
      "و احلف بروح روحي هو وعيني روحي\n",
      "يا دمعتي و جروحي قوليلو قلبك فين\n",
      "انت ياغالى خدت روحى منى\n",
      "عزيز روحم رو ازم گرفتي\n",
      "ليك سنين عمرى وحياتى\n",
      "سالهاي زندگي و عمرم مال توست\n",
      "عمرى كله ليك\n",
      "تمام عمرم مال تو\n",
      "قلبى ياغالى انت خدته منى\n",
      "دلم ،عزيز، دلم رو بردي\n",
      "يبقى ليه اعيش حياتى\n",
      "ديگه چرا به زندگيم ادامه بدم\n",
      "ليه اعيش بعديك\n",
      "چرا بعد از تو زندگي کنم\n",
      "(ايراني) با تو همه چيزي قشنگي داره\n",
      "وياک کل شي حلو\n",
      "ستاره گفتم آره بگو دوست داري\n",
      "نجمة قلتک بلي قل انک تحبني\n",
      "يعنى من انهاردة قلبى ملك ايديك\n",
      "يعني از امروز دلم مال توست\n",
      "هتسيبه تانى كده ليه\n",
      "چرا دوباره اينطوري ولش مي کني\n",
      "قلبى من انهاردة قلبى ملك ايديك\n",
      "دلم ، از امروز دلم مال توست\n",
      "هتسيبه تانى كده ليه\n",
      "ديگه چرا دوباره اينطوري ولش کني\n",
      "(ايراني) زندگي تا دست به دست هميم\n",
      "حياة ان ايدينا يکون مشبوک مع بعض\n",
      "به اين ميگن عاشقي\n",
      "هذا يسمونه الحب\n",
      "انت ياغالى خدت روحى منى\n",
      "عزيز جونم رو ازم گرفتي\n",
      "ليك سنين عمرى وحياتى\n",
      "زندگي و عمرم مال تو\n",
      "عمرى كله ليك\n",
      "تمام عمرم مال تو\n",
      "كلمة واحدة من شفايفك انت\n",
      "يک کلمه از لبات\n",
      "كلمة واحدة قولها\n",
      "يک کلمه ست اونو بگو\n",
      "قول بحبك انت قولها ليا\n",
      "بگو دوست دارم بهم بگو\n",
      "قلبى ياما قالها\n",
      "دلم هم خيلي گفتش\n",
      "(ايراني) چشم تو چه گيراست\n",
      "عيونک معجبه\n",
      "عاشقي چه زيباست\n",
      "ما اجمل الحب\n",
      "تنها مرد من تويي تو دنيا در تموم لحظه ها\n",
      "انت في الکون و في کل اللحظات رجلي الوحيد\n",
      "كلمة واحدة هيا يلا قولها ليا\n",
      "فقط يک کلمه ست يالا بهم بگو\n",
      "ياحبيبى قولى ايه جرالك ليه شاغلى بالى\n",
      "عزيزم بگو چت شده و چرا فکرم رو مشغول کردي\n",
      "يعنى من انهاردة قلبى ملك ايديك\n",
      "يعني از امروز دلم مال توست\n",
      "هتسيبه تانى كده ليه\n",
      "ديگه چرا دوباره ولش مي کني\n"
     ]
    }
   ],
   "source": [
    "for sent, i in s:\n",
    "    print(\" \".join(sent))"
   ]
  }
 ],
 "metadata": {
  "kernelspec": {
   "display_name": "Python 3",
   "language": "python",
   "name": "python3"
  },
  "language_info": {
   "codemirror_mode": {
    "name": "ipython",
    "version": 3
   },
   "file_extension": ".py",
   "mimetype": "text/x-python",
   "name": "python",
   "nbconvert_exporter": "python",
   "pygments_lexer": "ipython3",
   "version": "3.6.2"
  }
 },
 "nbformat": 4,
 "nbformat_minor": 2
}
